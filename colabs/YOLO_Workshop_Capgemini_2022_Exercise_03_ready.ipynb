{
  "nbformat": 4,
  "nbformat_minor": 0,
  "metadata": {
    "colab": {
      "provenance": [],
      "collapsed_sections": [],
      "include_colab_link": true
    },
    "kernelspec": {
      "name": "python3",
      "display_name": "Python 3"
    },
    "language_info": {
      "name": "python"
    }
  },
  "cells": [
    {
      "cell_type": "markdown",
      "metadata": {
        "id": "view-in-github",
        "colab_type": "text"
      },
      "source": [
        "<a href=\"https://colab.research.google.com/github/bees4ever/ai-workshop-2022/blob/main/YOLO_Workshop_Capgemini_2022_Exercise_03_ready.ipynb\" target=\"_parent\"><img src=\"https://colab.research.google.com/assets/colab-badge.svg\" alt=\"Open In Colab\"/></a>"
      ]
    },
    {
      "cell_type": "markdown",
      "source": [
        "# Crime Detection Workshop\n",
        "*Capgemini Challenge*\n",
        "\n",
        "Catch the thief through image analysis and prove your analytical skill!\n",
        "\n",
        "Estimated Duration: 30\n",
        "\n",
        "Points: 3"
      ],
      "metadata": {
        "id": "KavPAYN75oj-"
      }
    },
    {
      "cell_type": "markdown",
      "source": [
        "## Cyber attack on the surveillance system\n",
        "\n",
        "Over the weekend, there was an attack on the surveillance system to break into the shopping center. The police found traces of burglary. So far it has not been determined if anything was stolen.\n",
        "Check if there was a failure of the surveillance camera. In this case, the image freezes. Analyze automatically whether there were any conspicuous persons in the building before or after the failure.\n"
      ],
      "metadata": {
        "id": "hVThJ5dm81kM"
      }
    },
    {
      "cell_type": "markdown",
      "source": [
        "Note: The data are downloaded from kaggle and underly different lizenses, even unkown.\n",
        "\n",
        "- https://www.kaggle.com/datasets/odins0n/ucf-crime-dataset (CC0 lizense)\n",
        "- https://www.kaggle.com/datasets/fmena14/crowd-counting (unkown)\n",
        "\n"
      ],
      "metadata": {
        "id": "frfOgoCaFJ91"
      }
    },
    {
      "cell_type": "markdown",
      "source": [
        "## Step 1: Load Dataset\n"
      ],
      "metadata": {
        "id": "7k4mwNNA9K6b"
      }
    },
    {
      "cell_type": "code",
      "source": [
        "!wget https://github.com/bees4ever/ai-workshop-2022/raw/main/surveillance_dataset/workshop_task_03_dataset.zip\n",
        "!unzip workshop_task_03_dataset"
      ],
      "metadata": {
        "id": "uaUGVCvS5uQU"
      },
      "execution_count": null,
      "outputs": []
    },
    {
      "cell_type": "markdown",
      "source": [
        "## Step 2: Familiarize with Data\n"
      ],
      "metadata": {
        "id": "818qMsri-v9I"
      }
    },
    {
      "cell_type": "markdown",
      "source": [
        "## Step 3: Analysis of Data\n",
        "\n",
        "Hints: Get ready using Histograms"
      ],
      "metadata": {
        "id": "QYJnPQw9_S2P"
      }
    },
    {
      "cell_type": "code",
      "source": [
        "import cv2\n",
        "import numpy as np\n",
        "from matplotlib import pyplot as plt\n",
        "%matplotlib inline\n",
        "from google.colab.patches import cv2_imshow\n",
        "import os\n",
        "from pandas import DataFrame\n",
        "\n",
        "for img_seq in np.sort(os.listdir('workshop_task_03_dataset')):\n",
        "  img_path = os.path.join('workshop_task_03_dataset', img_seq)\n",
        "  img = cv2.imread(img_path, -1)\n",
        "\n",
        "  color = ('b','g','r')\n",
        "  for channel,col in enumerate(color):\n",
        "      histr = cv2.calcHist([img], [channel], None, [256], [0,256])\n",
        "      plt.plot(histr, color = col)\n",
        "      plt.xlim([0, 256])\n",
        "  plt.title('Histogram for color scale picture')\n",
        "  plt.show()\n",
        "  "
      ],
      "metadata": {
        "id": "644jd-8i8haA"
      },
      "execution_count": null,
      "outputs": []
    },
    {
      "cell_type": "code",
      "source": [
        "points = []\n",
        "for img_seq in np.sort(os.listdir('workshop_task_03_dataset')):\n",
        "  img_path = os.path.join('workshop_task_03_dataset', img_seq)\n",
        "  img = cv2.imread(img_path, -1)\n",
        "  \n",
        "  \n",
        "  #' TODO: do a analysis of the images\n",
        "\n",
        "  \n",
        "\n"
      ],
      "metadata": {
        "id": "XfQvU5sjiwts"
      },
      "execution_count": null,
      "outputs": []
    },
    {
      "cell_type": "code",
      "source": [
        "#' Hint: filter or plot your analysis \n",
        "df = DataFrame(points)\n"
      ],
      "metadata": {
        "id": "emv5sEgcjhvY"
      },
      "execution_count": null,
      "outputs": []
    }
  ]
}