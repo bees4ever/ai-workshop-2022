{
  "nbformat": 4,
  "nbformat_minor": 0,
  "metadata": {
    "colab": {
      "provenance": [],
      "include_colab_link": true
    },
    "kernelspec": {
      "name": "python3",
      "display_name": "Python 3"
    },
    "language_info": {
      "name": "python"
    }
  },
  "cells": [
    {
      "cell_type": "markdown",
      "metadata": {
        "id": "view-in-github",
        "colab_type": "text"
      },
      "source": [
        "<a href=\"https://colab.research.google.com/github/bees4ever/ai-workshop-2022/blob/main/YOLO_Workshop_Capgemini_2022_Exercise_03_ready.ipynb\" target=\"_parent\"><img src=\"https://colab.research.google.com/assets/colab-badge.svg\" alt=\"Open In Colab\"/></a>"
      ]
    },
    {
      "cell_type": "markdown",
      "source": [
        "# Crime Detection Workshop\n",
        "*Capgemini Challenge*\n",
        "\n",
        "Catch the thief through image analysis and prove your analytical skill!\n",
        "\n",
        "Estimated Duration: 30\n",
        "\n",
        "Points: 3"
      ],
      "metadata": {
        "id": "KavPAYN75oj-"
      }
    },
    {
      "cell_type": "markdown",
      "source": [
        "## Cyber attack on the surveillance system\n",
        "\n",
        "Over the weekend, there was an attack on the surveillance system to break into the shopping center. The police found traces of burglary. So far it has not been determined if anything was stolen.\n",
        "Check if there was a failure of the surveillance camera. In this case, the image freezes. Analyze automatically whether there were any conspicuous persons in the building before or after the failure.\n"
      ],
      "metadata": {
        "id": "hVThJ5dm81kM"
      }
    },
    {
      "cell_type": "markdown",
      "source": [
        "Note: The data are downloaded from kaggle and underly different lizenses, even unkown.\n",
        "\n",
        "- https://www.kaggle.com/datasets/odins0n/ucf-crime-dataset (CC0 lizense)\n",
        "- https://www.kaggle.com/datasets/fmena14/crowd-counting (unkown)\n",
        "\n"
      ],
      "metadata": {
        "id": "frfOgoCaFJ91"
      }
    },
    {
      "cell_type": "markdown",
      "source": [
        "## Step 1: Load Dataset\n",
        "\n",
        "> Run the following command to load the dataset for task 3.\n",
        "\n",
        "\n"
      ],
      "metadata": {
        "id": "7k4mwNNA9K6b"
      }
    },
    {
      "cell_type": "code",
      "source": [
        "!wget https://github.com/bees4ever/ai-workshop-2022/raw/main/surveillance_dataset/workshop_task_03_dataset.zip\n",
        "!unzip workshop_task_03_dataset"
      ],
      "metadata": {
        "id": "uaUGVCvS5uQU"
      },
      "execution_count": null,
      "outputs": []
    },
    {
      "cell_type": "markdown",
      "source": [
        "## Step 2: Familiarize with Data and Get Idea\n",
        "\n",
        "**Questions you may answer:**\n",
        "- How can determine a attack of the surveillance system in the image data\n",
        "- How can you easily compare the image dataset with tools learned in Excersice 0.\n",
        "- Where does the criminal mainly appear in the sequence regarding the detected attack\n",
        "\n",
        "\n",
        "\n"
      ],
      "metadata": {
        "id": "818qMsri-v9I"
      }
    },
    {
      "cell_type": "markdown",
      "source": [
        "## Step 3: Analysis of Data\n",
        "\n",
        "Hints: Here we provide some code where you can wlak through the data set and generate histograms. Run this code to see it in action."
      ],
      "metadata": {
        "id": "QYJnPQw9_S2P"
      }
    },
    {
      "cell_type": "code",
      "source": [
        "# Load image processing libraries\n",
        "import cv2\n",
        "import numpy as np\n",
        "from matplotlib import pyplot as plt\n",
        "%matplotlib inline\n",
        "from google.colab.patches import cv2_imshow\n",
        "import os\n",
        "from pandas import DataFrame\n",
        "\n",
        "# As we learn, we walk through the data set\n",
        "for img_seq in np.sort(os.listdir('workshop_task_03_dataset')):\n",
        "  img_path = os.path.join('workshop_task_03_dataset', img_seq)\n",
        "  img = cv2.imread(img_path, -1)\n",
        "\n",
        "  # generate the distribution of the color code 0 to 255.\n",
        "  color = ('b','g','r')\n",
        "  for channel,col in enumerate(color):\n",
        "      histr = cv2.calcHist([img], [channel], None, [256], [0,256])\n",
        "      plt.plot(histr, color = col)\n",
        "      plt.xlim([0, 256])\n",
        "  plt.title('Histogram for color scale picture')\n",
        "  plt.show()\n",
        "  "
      ],
      "metadata": {
        "id": "644jd-8i8haA"
      },
      "execution_count": null,
      "outputs": []
    },
    {
      "cell_type": "markdown",
      "source": [
        " Let create a function which creates the analysis of this three channels"
      ],
      "metadata": {
        "id": "cPEQmVvyqRIQ"
      }
    },
    {
      "cell_type": "code",
      "source": [
        "#' Let create a function which creates the analysis of this three channels\n",
        "\n",
        "\"\"\"\n",
        ":param: img_path the path to the image source\n",
        ":return: the color deviation of all three channels red, green, blue\n",
        "\"\"\"\n",
        "def img_hist(img_path):\n",
        "  color = ('b','g','r')\n",
        "  res = dict()\n",
        "  img_parsed = cv2.imread('seq_000018.jpg', -1)\n",
        "  for channel,col in enumerate(color):\n",
        "    histr = cv2.calcHist([img_parsed], [channel], None, [256], [0,256])\n",
        "    res[col] = histr.reshape(256)\n",
        "  \n",
        "  return res\n",
        "\n",
        "df = img_hist('seq_000018.jpg')"
      ],
      "metadata": {
        "id": "whl7HueVqRYO"
      },
      "execution_count": null,
      "outputs": []
    },
    {
      "cell_type": "markdown",
      "source": [
        "## Step 4: Your turn\n",
        "\n",
        "How can you use the hint and your own ideas to detect the attack and the criminal."
      ],
      "metadata": {
        "id": "k5kmJnLQNeJm"
      }
    },
    {
      "cell_type": "code",
      "source": [
        "points = []\n",
        "for img_seq in np.sort(os.listdir('workshop_task_03_dataset')):\n",
        "  img_path = os.path.join('workshop_task_03_dataset', img_seq)\n",
        "  img = cv2.imread(img_path, -1)\n",
        "  pass\n",
        "  \n",
        "df = DataFrame(points)\n",
        "df.plot()\n",
        "\n"
      ],
      "metadata": {
        "id": "XfQvU5sjiwts"
      },
      "execution_count": null,
      "outputs": []
    },
    {
      "cell_type": "markdown",
      "source": [
        "This code *can* be used to analysed your image comparings, BUT is maybe not working, depending on your solution."
      ],
      "metadata": {
        "id": "8fKvJOh8NrcO"
      }
    },
    {
      "cell_type": "code",
      "source": [
        "df = DataFrame(points)\n",
        "df.plot()"
      ],
      "metadata": {
        "id": "emv5sEgcjhvY"
      },
      "execution_count": null,
      "outputs": []
    }
  ]
}