{
  "cells": [
    {
      "cell_type": "markdown",
      "metadata": {
        "id": "view-in-github",
        "colab_type": "text"
      },
      "source": [
        "<a href=\"https://colab.research.google.com/github/bees4ever/ai-workshop-2022/blob/main/YOLO_Workshop_Capgemini_2022_Exercise_01_ready.ipynb\" target=\"_parent\"><img src=\"https://colab.research.google.com/assets/colab-badge.svg\" alt=\"Open In Colab\"/></a>"
      ]
    },
    {
      "cell_type": "markdown",
      "metadata": {
        "id": "KavPAYN75oj-"
      },
      "source": [
        "# Crime Detection Workshop\n",
        "*Capgemini Challenge*\n",
        "\n",
        "Catch the thief through image analysis and prove your analytical skill!\n",
        "\n",
        "Estimated Duration: 15 min\n",
        "\n",
        "Challange Points: 1 "
      ]
    },
    {
      "cell_type": "markdown",
      "metadata": {
        "id": "hVThJ5dm81kM"
      },
      "source": [
        "## Story - Burglary at night in shopping center\n",
        "There was a burglary at night in the shopping center. There were no other people in the building at the time of the burglary. A surveillance camera recorded images of the mall. Your task is to automatically scan the images from the surveillance camera and mark the people who are alone in the mall as suspicious.\n",
        "To do this, count the number of people per image and plot a time graph to analyze the mall's occupancy. Extract the images of the people who were alone in the mall.\n",
        "\n"
      ]
    },
    {
      "cell_type": "markdown",
      "metadata": {
        "id": "frfOgoCaFJ91"
      },
      "source": [
        "Note: The data are downloaded from kaggle and underly different lizenses, even unkown.\n",
        "\n",
        "- https://www.kaggle.com/datasets/odins0n/ucf-crime-dataset (CC0 lizense)\n",
        "- https://www.kaggle.com/datasets/fmena14/crowd-counting (unkown)\n",
        "\n"
      ]
    },
    {
      "cell_type": "markdown",
      "metadata": {
        "id": "7k4mwNNA9K6b"
      },
      "source": [
        "## Step 1: Dataset\n",
        "\n",
        "Load the dataset with following command:\n"
      ]
    },
    {
      "cell_type": "code",
      "execution_count": null,
      "metadata": {
        "id": "uaUGVCvS5uQU"
      },
      "outputs": [],
      "source": [
        "!wget https://github.com/bees4ever/ai-workshop-2022/raw/main/surveillance_dataset/workshop_task_01_dataset.zip\n",
        "\n"
      ]
    },
    {
      "cell_type": "markdown",
      "metadata": {
        "id": "uNAWD6zA1BOF"
      },
      "source": [
        "please unzip"
      ]
    },
    {
      "cell_type": "code",
      "execution_count": null,
      "metadata": {
        "id": "XMfPi7Zs1B1S"
      },
      "outputs": [],
      "source": [
        "!unzip -o -q workshop_task_01_dataset.zip"
      ]
    },
    {
      "cell_type": "markdown",
      "metadata": {
        "id": "h_93tz0jxGhn"
      },
      "source": [
        "## Step 2: Load YOLO"
      ]
    },
    {
      "cell_type": "code",
      "execution_count": null,
      "metadata": {
        "id": "6ALq8GIdxJqR"
      },
      "outputs": [],
      "source": [
        "# as we learned from Exercise 0, we can load the yolo model using pytorch\n",
        "import torch\n",
        "model = torch.hub.load('ultralytics/yolov3', 'yolov3')"
      ]
    },
    {
      "cell_type": "markdown",
      "metadata": {
        "id": "ZeBJEI7ZwsC2"
      },
      "source": [
        "\n",
        "## Step 3: Counting persons\n",
        "\n",
        "Hint 1: With the result using the model in variable `model` one can access all predictions of the regarding image\n",
        "\n",
        "Hint 2: Create a Dataframe"
      ]
    },
    {
      "cell_type": "code",
      "execution_count": null,
      "metadata": {
        "colab": {
          "background_save": true
        },
        "id": "x-pTkk_W2h4T"
      },
      "outputs": [],
      "source": [
        "# import python libraies\n",
        "import os\n",
        "import progressbar as pb\n",
        "import pandas as pd\n",
        "%matplotlib inline\n",
        "\n",
        "# Here we loop through all images of the surveillance camera. Please calculate\n",
        "# the variable `person_sum` using the hints from Excersice 0.\n",
        "df = {'persons': [], 'image': []}\n",
        "for img in pb.progressbar(os.listdir('workshop_task_01_dataset')):\n",
        "    img_path = os.path.join('workshop_task_01_dataset', img) \n",
        "    \n",
        "    # TODO: here do the person counting, using the `model` variable\n",
        "    results = model(img_path)\n",
        "    person_sum = pass # TODO\n",
        "    \n",
        "    \n",
        "    df['persons'].append(person_sum)\n",
        "    df['image'].append(img)\n",
        "\n",
        "\n",
        "\n",
        "\n"
      ]
    },
    {
      "cell_type": "code",
      "execution_count": null,
      "metadata": {
        "colab": {
          "background_save": true
        },
        "id": "lZsm24mRdqpL"
      },
      "outputs": [],
      "source": [
        "#' convert to Pandas Data Frame\n",
        "df = pd.DataFrame(df)"
      ]
    },
    {
      "cell_type": "markdown",
      "metadata": {
        "id": "QYJnPQw9_S2P"
      },
      "source": [
        "## Step 4: Identifiy the suscpisious sequence"
      ]
    },
    {
      "cell_type": "code",
      "execution_count": null,
      "metadata": {
        "colab": {
          "background_save": true
        },
        "id": "_oOIm0AGB3c3"
      },
      "outputs": [],
      "source": [
        "# Hint: The DF ca be plotted using:\n",
        "df.plot()\n"
      ]
    },
    {
      "cell_type": "code",
      "execution_count": null,
      "metadata": {
        "id": "Tiw7Uo-xgm43"
      },
      "outputs": [],
      "source": [
        "# TODO: filter for this sequence where the amount of the persons is the lowest"
      ]
    }
  ],
  "metadata": {
    "colab": {
      "provenance": [],
      "include_colab_link": true
    },
    "kernelspec": {
      "display_name": "Python 3",
      "name": "python3"
    },
    "language_info": {
      "name": "python"
    }
  },
  "nbformat": 4,
  "nbformat_minor": 0
}