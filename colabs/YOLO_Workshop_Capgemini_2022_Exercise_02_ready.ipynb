{
  "cells": [
    {
      "cell_type": "markdown",
      "metadata": {
        "id": "view-in-github",
        "colab_type": "text"
      },
      "source": [
        "<a href=\"https://colab.research.google.com/github/bees4ever/ai-workshop-2022/blob/main/YOLO_Workshop_Capgemini_2022_Exercise_02_ready.ipynb\" target=\"_parent\"><img src=\"https://colab.research.google.com/assets/colab-badge.svg\" alt=\"Open In Colab\"/></a>"
      ]
    },
    {
      "cell_type": "markdown",
      "metadata": {
        "id": "KavPAYN75oj-"
      },
      "source": [
        "# Crime Detection Workshop\n",
        "*Capgemini Challenge*\n",
        "\n",
        "Catch the thief through image analysis and prove your analytical skill!\n",
        "\n",
        "Estimated Duration: 20 min\n",
        "\n",
        "Challange Points: 2 "
      ]
    },
    {
      "cell_type": "markdown",
      "metadata": {
        "id": "hVThJ5dm81kM"
      },
      "source": [
        "## Story - Spies in the shopping mall \n",
        "\n",
        "According to the intelligence service, there was a spy in the shopping mall during regular opening hours. This spy was conspicuously dressed. You are to automatically analyze the images of the surveillance camera for conspicuously dressed persons. The image of the suspicious person is to be handed over to the secret service.\n",
        "To do this, create the crops of all the people and then extract the three most common colors in the image. If a conspicuous color occurs frequently, it is a suspicious person.\n"
      ]
    },
    {
      "cell_type": "markdown",
      "metadata": {
        "id": "frfOgoCaFJ91"
      },
      "source": [
        "Note: The data are downloaded from kaggle and underly different lizenses, even unkown.\n",
        "\n",
        "- https://www.kaggle.com/datasets/odins0n/ucf-crime-dataset (CC0 lizense)\n",
        "- https://www.kaggle.com/datasets/fmena14/crowd-counting (unkown)\n",
        "\n"
      ]
    },
    {
      "cell_type": "markdown",
      "metadata": {
        "id": "57V3CGs95RO4"
      },
      "source": [
        "Step 1: Dataset\n",
        "Load the dataset with following command:"
      ]
    },
    {
      "cell_type": "code",
      "execution_count": null,
      "metadata": {
        "id": "5DlVJVRd5Rvk"
      },
      "outputs": [],
      "source": [
        "!wget https://github.com/bees4ever/ai-workshop-2022/raw/main/surveillance_dataset/workshop_task_02_dataset.zip"
      ]
    },
    {
      "cell_type": "code",
      "execution_count": null,
      "metadata": {
        "id": "KyiaS898cQQ2"
      },
      "outputs": [],
      "source": [
        "!unzip workshop_task_02_dataset.zip"
      ]
    },
    {
      "cell_type": "markdown",
      "metadata": {
        "id": "pixBybdp5TxE"
      },
      "source": [
        "## Step 2: Load YOLO"
      ]
    },
    {
      "cell_type": "code",
      "execution_count": null,
      "metadata": {
        "id": "liBSU-GL_FTW"
      },
      "outputs": [],
      "source": [
        "# as we learned from Exercise 0, we can load the yolo model using pytorch\n",
        "import torch\n",
        "model = torch.hub.load('ultralytics/yolov3', 'yolov3')"
      ]
    },
    {
      "cell_type": "code",
      "source": [
        "# Load YOLO v5\n",
        "!git clone  'https://github.com/ultralytics/yolov5.git'"
      ],
      "metadata": {
        "id": "8ab8TgjdwKye"
      },
      "execution_count": null,
      "outputs": []
    },
    {
      "cell_type": "code",
      "source": [
        "!pip install -qr '/content/yolov5/requirements.txt'  # install dependencies"
      ],
      "metadata": {
        "id": "uTtWoL3gwNIa"
      },
      "execution_count": null,
      "outputs": []
    },
    {
      "cell_type": "code",
      "execution_count": null,
      "metadata": {
        "id": "erBVYjspFR7U"
      },
      "outputs": [],
      "source": [
        "!pip install webcolors"
      ]
    },
    {
      "cell_type": "markdown",
      "metadata": {
        "id": "B0-OIcriEFYI"
      },
      "source": [
        "## Step 3: Dominant Color\n",
        "\n"
      ]
    },
    {
      "cell_type": "markdown",
      "source": [
        "In this section will provide a couple of helper function and do some\n",
        "pre analysis of this images. You have nothing to do but executing the code\n",
        "and get introduced with the data source."
      ],
      "metadata": {
        "id": "tA7oi6-WicXp"
      }
    },
    {
      "cell_type": "code",
      "execution_count": null,
      "metadata": {
        "id": "3Y98aEwYb-jN"
      },
      "outputs": [],
      "source": [
        "import scipy.cluster\n",
        "import sklearn.cluster\n",
        "import numpy\n",
        "from PIL import Image\n",
        "import base64\n",
        "#' some example of explorative data analysis\n",
        "from IPython.core.display import display, HTML\n",
        "from google.colab import files\n",
        "\n",
        "\n",
        "def dominant_colors(image): \n",
        "    \"\"\"Extract the three dominant colors of an image\n",
        "\n",
        "    :param image:  PIL image input\n",
        "    :returns: a list of strings representing the three\n",
        "              dominant colors of an image\n",
        "    :rtype: list\n",
        "    \"\"\"\n",
        "    image = image.resize((150, 150))      # optional, to reduce time\n",
        "    ar = numpy.asarray(image)\n",
        "    shape = ar.shape\n",
        "    ar = ar.reshape(numpy.product(shape[:2]), shape[2]).astype(float)\n",
        "\n",
        "    kmeans = sklearn.cluster.MiniBatchKMeans(\n",
        "        n_clusters=3,\n",
        "        init=\"k-means++\",\n",
        "        max_iter=20,\n",
        "        random_state=1000\n",
        "    ).fit(ar)\n",
        "    codes = kmeans.cluster_centers_\n",
        "\n",
        "    vecs, _dist = scipy.cluster.vq.vq(ar, codes)         # assign codes\n",
        "    counts, _bins = numpy.histogram(vecs, len(codes))    # count occurrences\n",
        "\n",
        "    colors = []\n",
        "    for index in numpy.argsort(counts)[::-1]:\n",
        "        colors.append(tuple([int(code) for code in codes[index]]))\n",
        "    return colors   \n",
        "\n",
        "\n",
        "def imgToHtml(img):\n",
        "   \"\"\"convert a image path to a html code using base54\n",
        "\n",
        "    :param img: path to image\n",
        "    :returns: html <img> tag including image source\n",
        "    :rtype: str\n",
        "   \"\"\"\n",
        "   with open(img, 'rb') as binary_file:\n",
        "     binary_file_data = binary_file.read()\n",
        "     base64_encoded_data = base64.b64encode(binary_file_data)\n",
        "     base64_message = base64_encoded_data.decode('utf-8')\n",
        "     return '<img width=\"50px\" src=\"data:image/png;base64,' + base64_message + '\"/>'\n",
        "\n",
        "\n",
        "\n",
        "def colorToHtml(color):\n",
        "    \"\"\"show colors in nice bars\n",
        "\n",
        "    :param color: rgb code of color\n",
        "    :returns: html <div> representation color\n",
        "    :rtype: str\n",
        "    \"\"\"\n",
        "    return '<div style=\"display: inline-block; width: 40px; height: 40px; background-color: rgb('+ str(color[0]) +','+ str(color[1] )+',' + str(color[2])+ ');\"></div>'\n",
        "\n",
        "\n",
        "from webcolors import rgb_to_name\n",
        "\n",
        "from scipy.spatial import KDTree\n",
        "from webcolors import (\n",
        "    CSS3_HEX_TO_NAMES,\n",
        "    hex_to_rgb,\n",
        ")\n",
        "#' convert a rgb color code to a name\n",
        "#' which reduces the three dimension of rgb to\n",
        "#' one dimension\n",
        "def convert_rgb_to_names(rgb_tuple):\n",
        "    \"\"\"\n",
        "    convert rgb color code to a readable name\n",
        "    :param rgb_tuple: tuple rgb color code\n",
        "    :returns: name of color\n",
        "    :rtype: str\n",
        "    \"\"\"\n",
        "    # a dictionary of all the hex and their respective names in css3\n",
        "    css3_db = CSS3_HEX_TO_NAMES\n",
        "    names = []\n",
        "    rgb_values = []\n",
        "    for color_hex, color_name in css3_db.items():\n",
        "        names.append(color_name)\n",
        "        rgb_values.append(hex_to_rgb(color_hex))\n",
        "    \n",
        "    kdt_db = KDTree(rgb_values)\n",
        "    distance, index = kdt_db.query(rgb_tuple)\n",
        "    return names[index]\n",
        "\n",
        "\n",
        "\"\"\"  some constant suspicious_colors, which should be used later to detect\n",
        "the suspicious person \"\"\"\n",
        "#suspicious_colors = ['cornflowerblue',  'palegoldenrod', 'azure', 'lightskyblue', 'lightgoldenrodyellow', 'mediumblue',  'bisque', 'cornsilk',  'slategray', 'darkolivegreen',  'tomato', 'turquoise', 'springgreen', 'mediumaquamarine', 'darkviolet', 'lawngreen', 'lightpink', 'peru', 'mediumslateblue', 'ivory', 'mintcream', 'khaki', 'darkblue', 'darkorange', 'lightseagreen', 'chocolate', 'darkorchid', 'cyan', 'goldenrod', 'lightblue', 'forestgreen', 'darkred', 'mediumvioletred', 'paleturquoise', 'darkcyan', 'lightgray', 'mediumseagreen', 'darkkhaki', 'gainsboro', 'snow', 'peachpuff', 'sienna', 'yellowgreen', 'lightyellow', 'lightsteelblue', 'lemonchiffon', 'lightslategray', 'teal', 'gray', 'palegreen', 'darkslateblue','indigo', 'lightsalmon', 'seagreen', 'mediumpurple', 'papayawhip', 'lightcyan', 'deeppink', 'ghostwhite', 'navajowhite', 'limegreen', 'deepskyblue', 'moccasin', 'lightgreen', 'coral', 'whitesmoke', 'orchid', 'firebrick', 'darksalmon', 'palevioletred', 'mediumspringgreen', 'royalblue', 'magenta', 'honeydew', 'violet', 'salmon', 'pink', 'darkseagreen', 'yellow', 'maroon', 'darkgray', 'saddlebrown', 'midnightblue', 'steelblue', 'skyblue', 'hotpink', 'darkmagenta', 'lightcoral', 'aliceblue', 'darkturquoise', 'floralwhite', 'sandybrown', 'powderblue', 'mediumorchid', 'silver', 'chartreuse', 'antiquewhite', 'plum', 'aquamarine', 'crimson', 'orange', 'indianred', 'oldlace', 'orangered', 'tan', 'mediumturquoise', 'slateblue', 'blueviolet', 'mistyrose', 'seashell', 'olivedrab', 'cadetblue', 'blanchedalmond', 'burlywood',  'darkgreen', 'lavenderblush', 'linen', 'thistle', 'darkgoldenrod', 'dodgerblue', 'greenyellow', 'blue']\n",
        "suspicious_colors = ['aquamarine',\n",
        " 'azure',\n",
        " 'blanchedalmond',\n",
        " 'blue',\n",
        " 'blueviolet',\n",
        " 'chartreuse',\n",
        " 'coral',\n",
        " 'cornflowerblue',\n",
        " 'cornsilk',\n",
        " 'crimson',\n",
        " 'cyan',\n",
        " 'darkblue',\n",
        " 'darkgoldenrod',\n",
        " 'darkgreen',\n",
        " 'darkmagenta',\n",
        " 'darkorange',\n",
        " 'darkcyan',\n",
        " 'darkred',\n",
        " 'darksalmon',\n",
        " 'darkseagreen',\n",
        " 'darkviolet',\n",
        " 'deeppink',\n",
        " 'deepskyblue',\n",
        " 'dodgerblue',\n",
        " 'firebrick',\n",
        " 'floralwhite',\n",
        " 'forestgreen',\n",
        " 'greenyellow',\n",
        " 'honeydew',\n",
        " 'hotpink',\n",
        " 'indigo',\n",
        " 'khaki',\n",
        " 'lavenderblush',\n",
        " 'lawngreen',\n",
        " 'lemonchiffon',\n",
        " 'lightcoral',\n",
        " 'lightgoldenrodyellow',\n",
        " 'lightgreen',\n",
        " 'lightsalmon',\n",
        " 'lightseagreen',\n",
        " 'lightskyblue',\n",
        " 'lightyellow',\n",
        " 'limegreen',\n",
        " 'magenta',\n",
        " 'mediumaquamarine',\n",
        " 'mediumblue',\n",
        " 'mediumorchid',\n",
        " 'mediumpurple',\n",
        " 'mediumslateblue',\n",
        " 'mediumspringgreen',\n",
        " 'mediumturquoise',\n",
        " 'mediumvioletred',\n",
        " 'midnightblue',\n",
        " 'moccasin',\n",
        " 'navajowhite',\n",
        " 'oldlace',\n",
        " 'olivedrab',\n",
        " 'orange',\n",
        " 'orangered',\n",
        " 'orchid',\n",
        " 'palegoldenrod',\n",
        " 'palegreen',\n",
        " 'palevioletred',\n",
        " 'papayawhip',\n",
        " 'peachpuff',\n",
        " 'pink',\n",
        " 'plum',\n",
        " 'royalblue',\n",
        " 'salmon',\n",
        " 'seagreen',\n",
        " 'skyblue',\n",
        " 'slateblue',\n",
        " 'springgreen',\n",
        " 'steelblue',\n",
        " 'tomato',\n",
        " 'turquoise',\n",
        " 'violet',\n",
        " 'yellow',\n",
        " 'yellowgreen']\n"
      ]
    },
    {
      "cell_type": "markdown",
      "source": [
        "## Step 4 - Crop Processing\n",
        "\n",
        "To actually analyse the person objects, we need to create them, run the following code to extract the crops. "
      ],
      "metadata": {
        "id": "Yi-rFQCNlmDm"
      }
    },
    {
      "cell_type": "code",
      "source": [
        "#' Run object detection - Extract Them\n",
        "# Info: This call can ake approx. 10min\n",
        "!python yolov5/detect.py --source /content/workshop_task_02_dataset  --save-crop"
      ],
      "metadata": {
        "id": "GS7uPeraweqz"
      },
      "execution_count": null,
      "outputs": []
    },
    {
      "cell_type": "markdown",
      "source": [
        "## Step 5: Do the Processing of person objects\n",
        "\n",
        "This is now your turn. We want you to generate a Data Frame with the columns: *image, seq_number, dominant_color_1, dominant_color_2, dominant_color_3*\n",
        "\n",
        "For this purpose you simply need to write a function called `append_data_to_df`. Follow the function doc string. You see in the cell after\n",
        "that this function is called. If the prepared empty data set is filled correctly, your job is done."
      ],
      "metadata": {
        "id": "aQRjitZ8mCz0"
      }
    },
    {
      "cell_type": "code",
      "execution_count": null,
      "metadata": {
        "id": "rMNAE5Ke_C2t"
      },
      "outputs": [],
      "source": [
        "#' TODO: please create here a function to assign the corresponsing data \n",
        "# extractions to the Data frame\n",
        "\n",
        "def append_data_to_df(df_person_dominant_color, img_path, seq_file):\n",
        "  \"\"\" \n",
        "  This function appends to the df_person_dominant_color for each avaiable key/\n",
        "  column the corresponding img_path and seq_number as well as the dominant \n",
        "  colors. Ths dominant colors are calculated using `dominant_colors()`.\n",
        "\n",
        "  :param df_person_dominant_color: dict the raw dict object with the columns\n",
        "         image, seq_number, dominant_color_1, dominant_color_2, dominant_color_3\n",
        "  :param img_path: str path to image\n",
        "  :param seq_file: str image number\n",
        "  \"\"\"\n",
        "  # img_conv can be used as input for `dominant_colors()`.\n",
        "  img_conv = Image.open(img_path)\n",
        "  df_person_dominant_color[\"seq_number\"].append(int(re.findall(r\"\\d+\", seq_file)[0]))\n",
        "  pass\n",
        "    "
      ]
    },
    {
      "cell_type": "code",
      "execution_count": null,
      "metadata": {
        "id": "2yUrTKVQPQoZ"
      },
      "outputs": [],
      "source": [
        "# Here create data frame with persons per sequence and dominator color.\n",
        "# Run this code to test your function\n",
        "import re\n",
        "import os\n",
        "import pandas as pd\n",
        "import progressbar as pb\n",
        "df_person_dominant_color = {\"image\": [], \"seq_number\": [], \"dominant_color_1\": [], \"dominant_color_2\": [], \"dominant_color_3\": []}\n",
        "\n",
        "ext_data_path = 'yolov5/runs/detect/exp/crops/person'\n",
        "\n",
        "for img_name in pb.progressbar(os.listdir(ext_data_path)):\n",
        "  main_dir = ext_data_path\n",
        "  seq_image = os.path.join(main_dir, img_name)\n",
        "  append_data_to_df(df_person_dominant_color, seq_image, seq_image)\n",
        "  #for obj_img in os.listdir(person_dir):\n",
        "    #' TODO: define the function prepared above\n",
        "    \n",
        "   \n"
      ]
    },
    {
      "cell_type": "markdown",
      "source": [
        "## Step 6: Analyse the results"
      ],
      "metadata": {
        "id": "kGJIcsCqnxrW"
      }
    },
    {
      "cell_type": "code",
      "source": [
        "# Convert it to real pandas Data frame\n",
        "df_person_dominant_color = pd.DataFrame(df_person_dominant_color)\n",
        "#' show a preview of the dataset\n",
        "df_person_dominant_color.head(30)"
      ],
      "metadata": {
        "id": "tdnNihHpCran"
      },
      "execution_count": null,
      "outputs": []
    },
    {
      "cell_type": "code",
      "execution_count": null,
      "metadata": {
        "id": "GTH-Sl-Cb_rX"
      },
      "outputs": [],
      "source": [
        "# Run this to see some analysis of the dominant colors of the image\n",
        "html_str = ''\n",
        "for (index, row) in df_person_dominant_color.head(10).iterrows():\n",
        "  html_str += '<b>' + str(row.seq_number) + '</b>' + imgToHtml(row.image) + colorToHtml(row.dominant_color_1) + colorToHtml(row.dominant_color_2) + colorToHtml(row.dominant_color_3)\n",
        "\n",
        "\n",
        "display(HTML(html_str))"
      ]
    },
    {
      "cell_type": "markdown",
      "source": [
        "### Result Presentation - Filter for suspicious colors\n",
        "\n",
        "If your function works, you can run this code to execute the result presentation and the suspicious image will be printed here"
      ],
      "metadata": {
        "id": "euUbB6TTkzaU"
      }
    },
    {
      "cell_type": "code",
      "execution_count": null,
      "metadata": {
        "id": "l4PH9yX1HeCc"
      },
      "outputs": [],
      "source": [
        "images_found = set()\n",
        "for (index, row) in pb.progressbar(df_person_dominant_color.iterrows(), max_value=len(df_person_dominant_color)):\n",
        "  col1 = convert_rgb_to_names(row.dominant_color_1)\n",
        "  col2 = convert_rgb_to_names(row.dominant_color_2)\n",
        "  col3 = convert_rgb_to_names(row.dominant_color_3)\n",
        "  \n",
        "  if col1 in suspicious_colors or col2 in suspicious_colors or col3 in suspicious_colors :\n",
        "    print(f'suspicious frame: {row.image} with one of these colors: {col1}, {col2}, {col3}') \n",
        "    images_found.add(row.image)\n",
        "\n",
        "for img in images_found:\n",
        "  print(img)\n",
        "  display(HTML(imgToHtml(img)))"
      ]
    }
  ],
  "metadata": {
    "colab": {
      "provenance": [],
      "include_colab_link": true
    },
    "kernelspec": {
      "display_name": "Python 3",
      "name": "python3"
    },
    "language_info": {
      "name": "python"
    },
    "accelerator": "GPU",
    "gpuClass": "standard"
  },
  "nbformat": 4,
  "nbformat_minor": 0
}