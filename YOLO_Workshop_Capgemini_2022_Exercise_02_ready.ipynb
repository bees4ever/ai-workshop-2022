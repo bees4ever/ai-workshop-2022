{
  "cells": [
    {
      "cell_type": "markdown",
      "metadata": {
        "id": "view-in-github",
        "colab_type": "text"
      },
      "source": [
        "<a href=\"https://colab.research.google.com/github/bees4ever/ai-workshop-2022/blob/main/YOLO_Workshop_Capgemini_2022_Exercise_02_ready.ipynb\" target=\"_parent\"><img src=\"https://colab.research.google.com/assets/colab-badge.svg\" alt=\"Open In Colab\"/></a>"
      ]
    },
    {
      "cell_type": "markdown",
      "metadata": {
        "id": "KavPAYN75oj-"
      },
      "source": [
        "# Crime Detection Workshop\n",
        "*Capgemini Challenge*\n",
        "\n",
        "Catch the thief through image analysis and prove your analytical skill!\n",
        "\n",
        "Estimated Duration: 20 min\n",
        "\n",
        "Challange Points: 2 "
      ]
    },
    {
      "cell_type": "markdown",
      "metadata": {
        "id": "hVThJ5dm81kM"
      },
      "source": [
        "## Story - Spies in the shopping mall \n",
        "\n",
        "According to the intelligence service, there was a spy in the shopping mall during regular opening hours. This spy was conspicuously dressed. You are to automatically analyze the images of the surveillance camera for conspicuously dressed persons. The image of the suspicious person is to be handed over to the secret service.\n",
        "To do this, create the crops of all the people and then extract the three most common colors in the image. If a conspicuous color occurs frequently, it is a suspicious person.\n"
      ]
    },
    {
      "cell_type": "markdown",
      "metadata": {
        "id": "frfOgoCaFJ91"
      },
      "source": [
        "Note: The data are downloaded from kaggle and underly different lizenses, even unkown.\n",
        "\n",
        "- https://www.kaggle.com/datasets/odins0n/ucf-crime-dataset (CC0 lizense)\n",
        "- https://www.kaggle.com/datasets/fmena14/crowd-counting (unkown)\n",
        "\n"
      ]
    },
    {
      "cell_type": "markdown",
      "metadata": {
        "id": "57V3CGs95RO4"
      },
      "source": [
        "Step 1: Dataset\n",
        "Load the dataset with following command:"
      ]
    },
    {
      "cell_type": "code",
      "execution_count": null,
      "metadata": {
        "id": "5DlVJVRd5Rvk"
      },
      "outputs": [],
      "source": [
        "!wget https://github.com/bees4ever/ai-workshop-2022/raw/main/surveillance_dataset/workshop_task_02_dataset.zip"
      ]
    },
    {
      "cell_type": "code",
      "execution_count": null,
      "metadata": {
        "id": "KyiaS898cQQ2"
      },
      "outputs": [],
      "source": [
        "!unzip workshop_task_02_dataset.zip"
      ]
    },
    {
      "cell_type": "markdown",
      "metadata": {
        "id": "pixBybdp5TxE"
      },
      "source": [
        "## Step 2: Load YOLO"
      ]
    },
    {
      "cell_type": "code",
      "execution_count": null,
      "metadata": {
        "id": "liBSU-GL_FTW"
      },
      "outputs": [],
      "source": [
        "import torch\n",
        "# Model\n",
        "model = torch.hub.load('ultralytics/yolov3', 'yolov3')"
      ]
    },
    {
      "cell_type": "code",
      "source": [
        "# Load YOLO v5\n",
        "!git clone  'https://github.com/ultralytics/yolov5.git'"
      ],
      "metadata": {
        "id": "8ab8TgjdwKye"
      },
      "execution_count": null,
      "outputs": []
    },
    {
      "cell_type": "code",
      "source": [
        "!pip install -qr '/content/yolov5/requirements.txt'  # install dependencies"
      ],
      "metadata": {
        "id": "uTtWoL3gwNIa"
      },
      "execution_count": null,
      "outputs": []
    },
    {
      "cell_type": "markdown",
      "metadata": {
        "id": "B0-OIcriEFYI"
      },
      "source": [
        "## Step 3: Dominant Color\n",
        "\n"
      ]
    },
    {
      "cell_type": "code",
      "execution_count": null,
      "metadata": {
        "id": "3Y98aEwYb-jN"
      },
      "outputs": [],
      "source": [
        "import scipy.cluster\n",
        "import sklearn.cluster\n",
        "import numpy\n",
        "from PIL import Image\n",
        "\n",
        "def dominant_colors(image):  # PIL image input\n",
        "\n",
        "    image = image.resize((150, 150))      # optional, to reduce time\n",
        "    ar = numpy.asarray(image)\n",
        "    shape = ar.shape\n",
        "    ar = ar.reshape(numpy.product(shape[:2]), shape[2]).astype(float)\n",
        "\n",
        "    kmeans = sklearn.cluster.MiniBatchKMeans(\n",
        "        n_clusters=3,\n",
        "        init=\"k-means++\",\n",
        "        max_iter=20,\n",
        "        random_state=1000\n",
        "    ).fit(ar)\n",
        "    codes = kmeans.cluster_centers_\n",
        "\n",
        "    vecs, _dist = scipy.cluster.vq.vq(ar, codes)         # assign codes\n",
        "    counts, _bins = numpy.histogram(vecs, len(codes))    # count occurrences\n",
        "\n",
        "    colors = []\n",
        "    for index in numpy.argsort(counts)[::-1]:\n",
        "        colors.append(tuple([int(code) for code in codes[index]]))\n",
        "    return colors   \n"
      ]
    },
    {
      "cell_type": "code",
      "source": [
        "#' Run object detection\n",
        "!python yolov5/detect.py --source /content/workshop_task_02_dataset  --save-crop"
      ],
      "metadata": {
        "id": "GS7uPeraweqz"
      },
      "execution_count": null,
      "outputs": []
    },
    {
      "cell_type": "code",
      "execution_count": null,
      "metadata": {
        "id": "UmLQU5XKD4LK"
      },
      "outputs": [],
      "source": [
        "#' prepare dataset and extract person object\n",
        "#' TODO for students - write a loop\n",
        "\n",
        "import progressbar as pb\n",
        "import os\n",
        "for img in pb.progressbar(os.listdir('workshop_task_02_dataset')):\n",
        "    img_path = os.path.join('workshop_task_02_dataset', img) \n",
        "    #' TODO this part\n",
        "    results = model(img_path)\n",
        "    cropped = results.crop(save=True)\n",
        "\n",
        "\n",
        "\n",
        "\n"
      ]
    },
    {
      "cell_type": "code",
      "execution_count": null,
      "metadata": {
        "id": "FzS2llFdRWoS"
      },
      "outputs": [],
      "source": [
        "#'TODO: Define extracted folder path, the provided one might be wrong!\n",
        "ext_data_path = 'yolov5/runs/detect/exp2/crops/person'\n"
      ]
    },
    {
      "cell_type": "code",
      "execution_count": null,
      "metadata": {
        "id": "rMNAE5Ke_C2t"
      },
      "outputs": [],
      "source": [
        "#' TODO please finish here the function to assign the corresponsing data sextractions to the Data frame\n",
        "\n",
        "def append_data_to_df(df_person_dominant_color, img_path, seq_file):\n",
        "  # pass\n",
        "    "
      ]
    },
    {
      "cell_type": "code",
      "execution_count": null,
      "metadata": {
        "id": "2yUrTKVQPQoZ"
      },
      "outputs": [],
      "source": [
        "#' create data frame with persons per sequence and dominator color\n",
        "import re\n",
        "import os\n",
        "import pandas as pd\n",
        "import progressbar as pb\n",
        "df_person_dominant_color = {\"image\": [], \"seq_number\": [], \"dominant_color_1\": [], \"dominant_color_2\": [], \"dominant_color_3\": []}\n",
        "\n",
        "for img_name in pb.progressbar(os.listdir(ext_data_path)):\n",
        "  main_dir = ext_data_path\n",
        "  seq_image = os.path.join(main_dir, img_name)\n",
        "  #' TODO: finish the function prepared above\n",
        "  append_data_to_df(df_person_dominant_color, seq_image, seq_image)\n",
        "    \n",
        "   \n",
        "\n",
        "df_person_dominant_color = pd.DataFrame(df_person_dominant_color)"
      ]
    },
    {
      "cell_type": "code",
      "source": [
        "df_person_dominant_color = pd.DataFrame(df_person_dominant_color)"
      ],
      "metadata": {
        "id": "tdnNihHpCran"
      },
      "execution_count": null,
      "outputs": []
    },
    {
      "cell_type": "code",
      "execution_count": null,
      "metadata": {
        "id": "6FtGeeU-PRq3"
      },
      "outputs": [],
      "source": [
        "#' preview dataset\n",
        "df_person_dominant_color.head(30)"
      ]
    },
    {
      "cell_type": "code",
      "execution_count": null,
      "metadata": {
        "id": "XrDxepoThqeO"
      },
      "outputs": [],
      "source": [
        "import base64\n",
        "def imgToHtml(img):\n",
        "  with open(img, 'rb') as binary_file:\n",
        "     binary_file_data = binary_file.read()\n",
        "     base64_encoded_data = base64.b64encode(binary_file_data)\n",
        "     base64_message = base64_encoded_data.decode('utf-8')\n",
        "     return '<img width=\"50px\" src=\"data:image/png;base64,' + base64_message + '\"/>'\n",
        "\n"
      ]
    },
    {
      "cell_type": "code",
      "execution_count": null,
      "metadata": {
        "id": "GTH-Sl-Cb_rX"
      },
      "outputs": [],
      "source": [
        "#' some example of explorative data analysis\n",
        "from IPython.core.display import display, HTML\n",
        "from google.colab import files\n",
        "#' show colors in nice bars\n",
        "def colorToHtml(color):\n",
        "  return '<div style=\"display: inline-block; width: 40px; height: 40px; background-color: rgb('+ str(color[0]) +','+ str(color[1] )+',' + str(color[2])+ ');\"></div>'\n",
        "\n",
        "\n",
        "html_str = ''\n",
        "for (index, row) in df_person_dominant_color.head(10).iterrows():\n",
        "  html_str += '<b>' + str(row.seq_number) + '</b>' + imgToHtml(row.image) + colorToHtml(row.dominant_color_1) + colorToHtml(row.dominant_color_2) + colorToHtml(row.dominant_color_3)\n",
        "\n",
        "\n",
        "display(HTML(html_str))"
      ]
    },
    {
      "cell_type": "markdown",
      "metadata": {
        "id": "yHIcO7cib-Uz"
      },
      "source": []
    },
    {
      "cell_type": "markdown",
      "metadata": {
        "id": "NuIS9rrNDVY7"
      },
      "source": [
        "## Step 4 - Filter for suspicoius colors\n",
        "\n"
      ]
    },
    {
      "cell_type": "code",
      "execution_count": null,
      "metadata": {
        "id": "erBVYjspFR7U"
      },
      "outputs": [],
      "source": [
        "!pip install webcolors"
      ]
    },
    {
      "cell_type": "code",
      "execution_count": null,
      "metadata": {
        "id": "DbOLwog5FIuM"
      },
      "outputs": [],
      "source": [
        "from webcolors import rgb_to_name\n",
        "\n",
        "from scipy.spatial import KDTree\n",
        "from webcolors import (\n",
        "    CSS3_HEX_TO_NAMES,\n",
        "    hex_to_rgb,\n",
        ")\n",
        "#' convert a rgb color code to a name\n",
        "#' which reduces the three dimension of rgb to\n",
        "#' one dimension\n",
        "def convert_rgb_to_names(rgb_tuple):\n",
        "    \n",
        "    # a dictionary of all the hex and their respective names in css3\n",
        "    css3_db = CSS3_HEX_TO_NAMES\n",
        "    names = []\n",
        "    rgb_values = []\n",
        "    for color_hex, color_name in css3_db.items():\n",
        "        names.append(color_name)\n",
        "        rgb_values.append(hex_to_rgb(color_hex))\n",
        "    \n",
        "    kdt_db = KDTree(rgb_values)\n",
        "    distance, index = kdt_db.query(rgb_tuple)\n",
        "    return names[index]"
      ]
    },
    {
      "cell_type": "code",
      "execution_count": null,
      "metadata": {
        "id": "6XKIdLsZ42ZR"
      },
      "outputs": [],
      "source": [
        "#' predefined\n",
        "suspicious_colors = ['aquamarine',\n",
        " 'azure',\n",
        " 'blanchedalmond',\n",
        " 'blue',\n",
        " 'blueviolet',\n",
        " 'chartreuse',\n",
        " 'coral',\n",
        " 'cornflowerblue',\n",
        " 'cornsilk',\n",
        " 'crimson',\n",
        " 'cyan',\n",
        " 'darkblue',\n",
        " 'darkgoldenrod',\n",
        " 'darkgreen',\n",
        " 'darkmagenta',\n",
        " 'darkorange',\n",
        " 'darkcyan',\n",
        " 'darkred',\n",
        " 'darksalmon',\n",
        " 'darkseagreen',\n",
        " 'darkviolet',\n",
        " 'deeppink',\n",
        " 'deepskyblue',\n",
        " 'dodgerblue',\n",
        " 'firebrick',\n",
        " 'floralwhite',\n",
        " 'forestgreen',\n",
        " 'greenyellow',\n",
        " 'honeydew',\n",
        " 'hotpink',\n",
        " 'indigo',\n",
        " 'khaki',\n",
        " 'lavenderblush',\n",
        " 'lawngreen',\n",
        " 'lemonchiffon',\n",
        " 'lightcoral',\n",
        " 'lightgoldenrodyellow',\n",
        " 'lightgreen',\n",
        " 'lightsalmon',\n",
        " 'lightseagreen',\n",
        " 'lightskyblue',\n",
        " 'lightyellow',\n",
        " 'limegreen',\n",
        " 'magenta',\n",
        " 'mediumaquamarine',\n",
        " 'mediumblue',\n",
        " 'mediumorchid',\n",
        " 'mediumpurple',\n",
        " 'mediumslateblue',\n",
        " 'mediumspringgreen',\n",
        " 'mediumturquoise',\n",
        " 'mediumvioletred',\n",
        " 'midnightblue',\n",
        " 'moccasin',\n",
        " 'navajowhite',\n",
        " 'oldlace',\n",
        " 'olivedrab',\n",
        " 'orange',\n",
        " 'orangered',\n",
        " 'orchid',\n",
        " 'palegoldenrod',\n",
        " 'palegreen',\n",
        " 'palevioletred',\n",
        " 'papayawhip',\n",
        " 'peachpuff',\n",
        " 'pink',\n",
        " 'plum',\n",
        " 'royalblue',\n",
        " 'salmon',\n",
        " 'seagreen',\n",
        " 'skyblue',\n",
        " 'slateblue',\n",
        " 'springgreen',\n",
        " 'steelblue',\n",
        " 'tomato',\n",
        " 'turquoise',\n",
        " 'violet',\n",
        " 'yellow',\n",
        " 'yellowgreen']\n"
      ]
    },
    {
      "cell_type": "code",
      "execution_count": null,
      "metadata": {
        "id": "l4PH9yX1HeCc"
      },
      "outputs": [],
      "source": [
        "#' TODO: run through all images and find the image which has a color in the list of suspicious colors\n",
        "images_found = set()\n",
        "for (index, row) in pb.progressbar(df_person_dominant_color.iterrows(), max_value=len(df_person_dominant_color)):\n",
        "  pass"
      ]
    },
    {
      "cell_type": "code",
      "source": [
        "for img in images_found:\n",
        "  print(img)\n",
        "  display(HTML(imgToHtml(img)))\n"
      ],
      "metadata": {
        "id": "4hAW04UYAK91"
      },
      "execution_count": null,
      "outputs": []
    }
  ],
  "metadata": {
    "colab": {
      "collapsed_sections": [],
      "provenance": [],
      "include_colab_link": true
    },
    "kernelspec": {
      "display_name": "Python 3",
      "name": "python3"
    },
    "language_info": {
      "name": "python"
    }
  },
  "nbformat": 4,
  "nbformat_minor": 0
}